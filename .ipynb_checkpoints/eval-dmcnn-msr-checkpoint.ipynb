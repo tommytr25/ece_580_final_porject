{
 "cells": [
  {
   "cell_type": "code",
   "execution_count": 1,
   "id": "0b22b98f-c00c-42b0-a171-6f907ca70f70",
   "metadata": {},
   "outputs": [],
   "source": [
    "import os\n",
    "import numpy as np\n",
    "import cv2\n",
    "import torch\n",
    "import torch.nn as nn\n",
    "import matplotlib.pyplot as plt\n"
   ]
  },
  {
   "cell_type": "code",
   "execution_count": 2,
   "id": "6b8d083a-e08d-40ad-a7de-8e0261d1bd2f",
   "metadata": {},
   "outputs": [],
   "source": [
    "class DMCNN(nn.Module):\n",
    "    def __init__(self):\n",
    "        super(DMCNN, self).__init__()\n",
    "        self.feature_extraction = nn.Conv2d(3, 128, kernel_size=9, padding=4)\n",
    "        self.relu1 = nn.ReLU(inplace=True)\n",
    "        self.nonlinear_mapping = nn.Conv2d(128, 64, kernel_size=1)\n",
    "        self.relu2 = nn.ReLU(inplace=True)\n",
    "        self.reconstruction = nn.Conv2d(64, 3, kernel_size=5, padding=2)\n",
    "        \n",
    "    def forward(self, x):\n",
    "        features = self.relu1(self.feature_extraction(x))\n",
    "        mapped = self.relu2(self.nonlinear_mapping(features))\n",
    "        out = self.reconstruction(mapped)\n",
    "        return out\n"
   ]
  },
  {
   "cell_type": "code",
   "execution_count": 3,
   "id": "722469ae-32c9-4e67-96cf-695747b86213",
   "metadata": {},
   "outputs": [],
   "source": [
    "def create_cfa_channels(bayer_img):\n",
    "    \"\"\"Convert single-channel Bayer image to 3-channel representation.\"\"\"\n",
    "    H, W = bayer_img.shape\n",
    "    cfa = np.zeros((H, W, 3), dtype=bayer_img.dtype)\n",
    "    \n",
    "    # RGGB pattern\n",
    "    cfa[0::2, 0::2, 0] = bayer_img[0::2, 0::2]  # R\n",
    "    cfa[0::2, 1::2, 1] = bayer_img[0::2, 1::2]  # G\n",
    "    cfa[1::2, 0::2, 1] = bayer_img[1::2, 0::2]  # G\n",
    "    cfa[1::2, 1::2, 2] = bayer_img[1::2, 1::2]  # B\n",
    "    \n",
    "    return cfa"
   ]
  },
  {
   "cell_type": "code",
   "execution_count": 4,
   "id": "5d7afd47-268e-4b2d-99ed-74a2f05cb1fb",
   "metadata": {},
   "outputs": [],
   "source": [
    "def calculate_psnr(img1, img2):\n",
    "    \"\"\"Calculate PSNR between two images.\"\"\"\n",
    "    mse = np.mean((img1 - img2) ** 2)\n",
    "    if mse == 0:\n",
    "        return float('inf')\n",
    "    return 20 * np.log10(1.0 / np.sqrt(mse))\n",
    "    \n",
    "def calculate_cpsnr(img1, img2):\n",
    "    \"\"\"Calculate Color PSNR (average of R,G,B channels) and individual channel PSNRs.\"\"\"\n",
    "    psnr_r = calculate_psnr(img1[:,:,0], img2[:,:,0])\n",
    "    psnr_g = calculate_psnr(img1[:,:,1], img2[:,:,1])\n",
    "    psnr_b = calculate_psnr(img1[:,:,2], img2[:,:,2])\n",
    "    return psnr_r, psnr_g, psnr_b\n"
   ]
  },
  {
   "cell_type": "code",
   "execution_count": 5,
   "id": "ddb8dd6e-0295-4999-b4dd-94b45f898454",
   "metadata": {},
   "outputs": [
    {
     "name": "stdout",
     "output_type": "stream",
     "text": [
      "Using device: cuda\n"
     ]
    },
    {
     "name": "stderr",
     "output_type": "stream",
     "text": [
      "/tmp/ipykernel_2426472/73838122.py:7: FutureWarning: You are using `torch.load` with `weights_only=False` (the current default value), which uses the default pickle module implicitly. It is possible to construct malicious pickle data which will execute arbitrary code during unpickling (See https://github.com/pytorch/pytorch/blob/main/SECURITY.md#untrusted-models for more details). In a future release, the default value for `weights_only` will be flipped to `True`. This limits the functions that could be executed during unpickling. Arbitrary objects will no longer be allowed to be loaded via this mode unless they are explicitly allowlisted by the user via `torch.serialization.add_safe_globals`. We recommend you start setting `weights_only=True` for any use case where you don't have full control of the loaded file. Please open an issue on GitHub for any issues related to this experimental feature.\n",
      "  checkpoint = torch.load('best_demosaic_model.pth')\n"
     ]
    },
    {
     "data": {
      "text/plain": [
       "DMCNN(\n",
       "  (feature_extraction): Conv2d(3, 128, kernel_size=(9, 9), stride=(1, 1), padding=(4, 4))\n",
       "  (relu1): ReLU(inplace=True)\n",
       "  (nonlinear_mapping): Conv2d(128, 64, kernel_size=(1, 1), stride=(1, 1))\n",
       "  (relu2): ReLU(inplace=True)\n",
       "  (reconstruction): Conv2d(64, 3, kernel_size=(5, 5), stride=(1, 1), padding=(2, 2))\n",
       ")"
      ]
     },
     "execution_count": 5,
     "metadata": {},
     "output_type": "execute_result"
    }
   ],
   "source": [
    "# Set device\n",
    "device = torch.device('cuda' if torch.cuda.is_available() else 'cpu')\n",
    "print(f\"Using device: {device}\")\n",
    "\n",
    "# Initialize model and load weights\n",
    "model = DMCNN().to(device)\n",
    "checkpoint = torch.load('best_demosaic_model.pth')\n",
    "model.load_state_dict(checkpoint['model_state_dict'])\n",
    "model.eval()"
   ]
  },
  {
   "cell_type": "code",
   "execution_count": 6,
   "id": "bc7a1d83-23ca-43d8-ac10-9b592bff30b6",
   "metadata": {},
   "outputs": [],
   "source": [
    "# Dataset path and test split file\n",
    "dataset_path = 'dataset/MSR-Demosaicing/MSR-Demosaicing/Dataset_LINEAR_without_noise/bayer_panasonic'\n",
    "test_split_file = os.path.join(dataset_path, 'test.txt')\n",
    "\n",
    "\n"
   ]
  },
  {
   "cell_type": "code",
   "execution_count": 10,
   "id": "ac7fe929-d893-46f0-a020-db61853590c5",
   "metadata": {},
   "outputs": [
    {
     "name": "stdout",
     "output_type": "stream",
     "text": [
      "\n",
      "Calculating PSNR for all test images...\n",
      "Processing image 200/200\n",
      "PSNR calculation complete!\n",
      "\n",
      "Test Set Results:\n",
      "R channel - Mean: 38.30 dB, Std: 4.36 dB\n",
      "G channel - Mean: 42.38 dB, Std: 4.13 dB\n",
      "B channel - Mean: 39.40 dB, Std: 4.28 dB\n",
      "CPSNR     - Mean: 40.03 dB, Std: 4.59 dB\n"
     ]
    }
   ],
   "source": [
    "# Visualize and save first 4 results\n",
    "os.makedirs('results-dmcnn', exist_ok=True)\n",
    "\n",
    "# Read all test images\n",
    "with open(test_split_file, 'r') as f:\n",
    "    test_images = [line.strip() + '.png' for line in f.readlines()]\n",
    "\n",
    "# Calculate PSNR for all test images\n",
    "r_psnr_values = []\n",
    "g_psnr_values = []\n",
    "b_psnr_values = []\n",
    "print(\"\\nCalculating PSNR for all test images...\")\n",
    "\n",
    "for i, img_file in enumerate(test_images):\n",
    "    print(f\"Processing image {i+1}/{len(test_images)}\", end='\\r')\n",
    "    \n",
    "    # Load ground truth image\n",
    "    gt_path = os.path.join(dataset_path, 'groundtruth', img_file)\n",
    "    gt_img = cv2.imread(gt_path)\n",
    "    gt_img = cv2.cvtColor(gt_img, cv2.COLOR_BGR2RGB)\n",
    "    gt_img = gt_img.astype(np.float32) / 255.0\n",
    "    \n",
    "    # Load and normalize Bayer image\n",
    "    input_path = os.path.join(dataset_path, 'input', img_file)\n",
    "    bayer_img = cv2.imread(input_path, cv2.IMREAD_UNCHANGED)\n",
    "    bayer_img = bayer_img.astype(np.float32) / 65535.0\n",
    "    \n",
    "    # Convert to 3-channel input\n",
    "    input_3ch = create_cfa_channels(bayer_img)\n",
    "    \n",
    "    # Process with model\n",
    "    with torch.no_grad():\n",
    "        input_tensor = torch.from_numpy(input_3ch).float().permute(2, 0, 1).unsqueeze(0).to(device)\n",
    "        output = model(input_tensor)\n",
    "        output_img = output[0].cpu().numpy().transpose(1, 2, 0)\n",
    "        output_img = np.clip(output_img, 0, 1)\n",
    "\n",
    "    \n",
    "    # Calculate PSNR for each channel\n",
    "    r_psnr, g_psnr, b_psnr = calculate_cpsnr(gt_img, output_img)\n",
    "    r_psnr_values.append(r_psnr)\n",
    "    g_psnr_values.append(g_psnr)\n",
    "    b_psnr_values.append(b_psnr)\n",
    "\n",
    "print(\"\\nPSNR calculation complete!\")\n",
    "\n",
    "# Calculate statistics\n",
    "mean_r_psnr = np.mean(r_psnr_values)\n",
    "mean_g_psnr = np.mean(g_psnr_values)\n",
    "mean_b_psnr = np.mean(b_psnr_values)\n",
    "mean_cpsnr = (mean_r_psnr + mean_g_psnr + mean_b_psnr) / 3.0\n",
    "\n",
    "std_r_psnr = np.std(r_psnr_values)\n",
    "std_g_psnr = np.std(g_psnr_values)\n",
    "std_b_psnr = np.std(b_psnr_values)\n",
    "std_cpsnr = np.std([r_psnr_values, g_psnr_values, b_psnr_values])\n",
    "\n",
    "print(f\"\\nTest Set Results:\")\n",
    "print(f\"R channel - Mean: {mean_r_psnr:.2f} dB, Std: {std_r_psnr:.2f} dB\")\n",
    "print(f\"G channel - Mean: {mean_g_psnr:.2f} dB, Std: {std_g_psnr:.2f} dB\")\n",
    "print(f\"B channel - Mean: {mean_b_psnr:.2f} dB, Std: {std_b_psnr:.2f} dB\")\n",
    "print(f\"CPSNR     - Mean: {mean_cpsnr:.2f} dB, Std: {std_cpsnr:.2f} dB\")"
   ]
  },
  {
   "cell_type": "code",
   "execution_count": 8,
   "id": "7b30410f-8717-4f9a-a5df-297777cdd2c6",
   "metadata": {},
   "outputs": [],
   "source": [
    "# Visualize and save first 4 results\n",
    "os.makedirs('results-dmcnn', exist_ok=True)\n",
    "\n",
    "for i in range(4):\n",
    "    img_file = test_images[i]\n",
    "    \n",
    "    # Load and process image\n",
    "    input_path = os.path.join(dataset_path, 'input', img_file)\n",
    "    bayer_img = cv2.imread(input_path, cv2.IMREAD_UNCHANGED)\n",
    "    bayer_img = bayer_img.astype(np.float32) / 65535.0\n",
    "    input_3ch = create_cfa_channels(bayer_img)\n",
    "    \n",
    "    # Process with model\n",
    "    with torch.no_grad():\n",
    "        input_tensor = torch.from_numpy(input_3ch).float().permute(2, 0, 1).unsqueeze(0).to(device)\n",
    "        output = model(input_tensor)\n",
    "        output_img = output[0].cpu().numpy().transpose(1, 2, 0)\n",
    "        output_img = np.clip(output_img, 0, 1)\n",
    "    \n",
    "    # Convert to uint8 and save\n",
    "    output_img = (output_img * 255).astype(np.uint8)\n",
    "    output_img = cv2.cvtColor(output_img, cv2.COLOR_RGB2BGR)\n",
    "    cv2.imwrite(f'results-dmcnn/{img_file}', output_img)"
   ]
  },
  {
   "cell_type": "code",
   "execution_count": null,
   "id": "da9643c3-db8e-46f4-953e-93f0850a2a42",
   "metadata": {},
   "outputs": [],
   "source": []
  }
 ],
 "metadata": {
  "kernelspec": {
   "display_name": "Python 3 (ipykernel)",
   "language": "python",
   "name": "python3"
  },
  "language_info": {
   "codemirror_mode": {
    "name": "ipython",
    "version": 3
   },
   "file_extension": ".py",
   "mimetype": "text/x-python",
   "name": "python",
   "nbconvert_exporter": "python",
   "pygments_lexer": "ipython3",
   "version": "3.12.2"
  }
 },
 "nbformat": 4,
 "nbformat_minor": 5
}
